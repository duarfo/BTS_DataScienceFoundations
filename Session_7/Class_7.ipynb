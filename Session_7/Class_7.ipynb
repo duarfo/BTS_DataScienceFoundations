{
 "cells": [
  {
   "cell_type": "code",
   "execution_count": 17,
   "metadata": {},
   "outputs": [
    {
     "name": "stdout",
     "output_type": "stream",
     "text": [
      "[0.0, 0.31019096605521496, 0.0, 0.0, 0.0, 0.0, 0.0, 0.0, 0.0, 0.0, 0.0, 0.0, 0.0, 0.0, 0.0, 0.18320378146489946, 0.0, 0.18320378146489946, 0.0, 0.0, 0.0, 0.0, 0.0, 0.0, 0.23957330918096045, 0.0, 0.0, 0.0, 0.18320378146489946, 0.0, 0.23957330918096045, 0.0, 0.0, 0.0, 0.0, 0.0, 0.0, 0.23957330918096045, 0.0, 0.23957330918096045, 0.23957330918096045, 0.0, 0.15022972156764192, 0.0, 0.0, 0.0, 0.0, 0.23957330918096045, 0.0, 0.0, 0.15022972156764192, 0.23957330918096045, 0.0, 0.0, 0.0, 0.0, 0.0, 0.0, 0.0, 0.23957330918096045, 0.0, 0.23957330918096045, 0.0, 0.0, 0.0, 0.23957330918096045, 0.0, 0.0, 0.0, 0.0, 0.0, 0.0, 0.0, 0.0, 0.0, 0.0, 0.0, 0.23957330918096045, 0.23957330918096045, 0.10868731908150663, 0.0, 0.0, 0.0, 0.0, 0.0, 0.0, 0.23957330918096045, 0.0, 0.0, 0.0, 0.0, 0.0, 0.0, 0.0, 0.0, 0.0, 0.0, 0.0]\n",
      "China has a strong economy that is growing at a rapid pace. However politically it differs greatly from the US Economy.\n"
     ]
    }
   ],
   "source": [
    "from __future__ import division\n",
    "import math\n",
    "import string\n",
    "from nltk import word_tokenize, pos_tag, ne_chunk\n",
    "\n",
    "tokenize = lambda doc: doc.lower().split(' ')\n",
    "\n",
    "document_0 = \"China has a strong economy that is growing at a rapid pace. However politically it differs greatly from the US Economy.\"\n",
    "document_1 = \"At last, China seems serious about confronting an endemic problem: domestic violence and corruption.\"\n",
    "document_2 = \"Japan's prime minister, Shinzo Abe, is working towards healing the economic turmoil in his own country for his view on the future of his people.\"\n",
    "document_3 = \"Vladimir Putin is working hard to fix the economy in Russia as the Ruble has tumbled.\"\n",
    "document_4 = \"What's the future of Abenomics? We asked Shinzo Abe for his views\"\n",
    "document_5 = \"Obama has eased sanctions on Cuba while accelerating those against the Russian Economy, even as the Ruble's value falls almost daily.\"\n",
    "document_6 = \"Vladimir Putin was found to be riding a horse, again, without a shirt on while hunting deer. Vladimir Putin always seems so serious about things - even riding horses.\"\n",
    "\n",
    "all_documents = [document_0, document_1, document_2, document_3, document_4, document_5, document_6]\n",
    "\n",
    "tokenized_documents = [word_tokenize(d) for d in all_documents]\n",
    "all_tokens_set = set([item for sublist in tokenized_documents for item in sublist])\n",
    "\n",
    "from sklearn.feature_extraction.text import TfidfVectorizer\n",
    "\n",
    "sklearn_tfidf= TfidfVectorizer(norm='l2', min_df=0, use_idf=True, smooth_idf=False, sublinear_tf= True, tokenizer= tokenize)\n",
    "\n",
    "sklear_representation = sklearn_tfidf.fit_transform(all_documents)\n",
    "print(sklear_representation.toarray()[0].tolist())\n",
    "print(document_0)\n"
   ]
  },
  {
   "cell_type": "code",
   "execution_count": 22,
   "metadata": {},
   "outputs": [
    {
     "data": {
      "text/plain": [
       "<5x137 sparse matrix of type '<class 'numpy.float64'>'\n",
       "\twith 182 stored elements in Compressed Sparse Row format>"
      ]
     },
     "execution_count": 22,
     "metadata": {},
     "output_type": "execute_result"
    }
   ],
   "source": [
    "manga_0='Manga (漫画 o también まんが?) es la palabra japonesa para designar a las historietas en general. Fuera de Japón se utiliza tanto para referirse a las historietas de origen japonés como al estilo de dibujo utilizado en estas.'\n",
    "manga_1='Los cómics tradicionales japoneses se denominan manga, una palabra nipona que significa literalmente dibujos irresponsables. Su paternidad se atribuye al artista del siglo XVIII Hokusai, aunque los manga no se hicieron populares hasta después de la Segunda Guerra Mundial.'\n",
    "manga_2='En japonés la palabra manga significa cómic: serie de cuadros en secuencia que combinan textos e ilustraciones para contar una historia.'\n",
    "manga_3='Así como para los que vivimos del lado occidental del planeta tierra el término cómic sirve para denominar a las historietas y todos sin que nadie quede afuera, salvo que sea un ET, sabemos de que se trata cuando alguien dice cómic o historieta, del otro lado, en el oriente, más precisamente en el Japón, el término que refiere a este tipo de contenidos es el manga.'\n",
    "manga_4='El género del manga surge en Japón en la segunda mitad del siglo diecinueve.  Con la expansión política y abertura económica durante el imperio de emperador Mutsuhito, empezaron a llegar las primeras personas y tendencias occidentales al país. El Manga surge como un producto híbrido de la tradición del arte gráfico japonés y de la historieta occidental.'\n",
    "\n",
    "all_manga = [manga_0, manga_1, manga_2, manga_3, manga_4]\n",
    "sklear_mangarep= sklearn_tfidf.fit_transform(all_manga)\n",
    "sklear_mangarep"
   ]
  },
  {
   "cell_type": "code",
   "execution_count": 13,
   "metadata": {
    "collapsed": true
   },
   "outputs": [],
   "source": [
    "def cosine_similarity(vector1, vector2):\n",
    "    dot_product = sum(p*q for p,q in zip (vector1, vector2))\n",
    "    magnitude = math.sqrt(sum([val**2 for val in vector1]))* math.sqrt(sum(val**2 for val in vector2))\n",
    "    if not magnitude:\n",
    "        return 0\n",
    "    return dot_product/magnitude"
   ]
  },
  {
   "cell_type": "code",
   "execution_count": 34,
   "metadata": {},
   "outputs": [
    {
     "name": "stdout",
     "output_type": "stream",
     "text": [
      "[(1, 4), (2, 5), (3, 6)]\n",
      "4\n",
      "10\n",
      "18\n"
     ]
    }
   ],
   "source": [
    "# how zip works\n",
    "x =[1,2,3]\n",
    "y =[4,5,6]\n",
    "zipped = zip(x,y)\n",
    "print(list(zipped))\n",
    "for p,q in zip (x,y):\n",
    "    print(p*q)"
   ]
  },
  {
   "cell_type": "code",
   "execution_count": 37,
   "metadata": {},
   "outputs": [
    {
     "name": "stdout",
     "output_type": "stream",
     "text": [
      "The similarity for document 0 with document 0 is 1.0\n",
      "The similarity for document 0 with document 1 is 0.0811430505246\n",
      "The similarity for document 0 with document 2 is 0.0402797758893\n",
      "The similarity for document 0 with document 3 is 0.127326411753\n",
      "The similarity for document 0 with document 4 is 0.0163188950172\n",
      "The similarity for document 0 with document 5 is 0.042931535134\n",
      "The similarity for document 0 with document 6 is 0.0790729236197\n",
      "The similarity for document 1 with document 0 is 0.0811430505246\n",
      "The similarity for document 1 with document 1 is 1.0\n",
      "The similarity for document 1 with document 2 is 0.0\n",
      "The similarity for document 1 with document 3 is 0.0\n",
      "The similarity for document 1 with document 4 is 0.0\n",
      "The similarity for document 1 with document 5 is 0.0\n",
      "The similarity for document 1 with document 6 is 0.100025814309\n",
      "The similarity for document 2 with document 0 is 0.0402797758893\n",
      "The similarity for document 2 with document 1 is 0.0\n",
      "The similarity for document 2 with document 2 is 1.0\n",
      "The similarity for document 2 with document 3 is 0.150818419801\n",
      "The similarity for document 2 with document 4 is 0.293700759429\n",
      "The similarity for document 2 with document 5 is 0.053851069919\n",
      "The similarity for document 2 with document 6 is 0.0175494934339\n",
      "The similarity for document 3 with document 0 is 0.127326411753\n",
      "The similarity for document 3 with document 1 is 0.0\n",
      "The similarity for document 3 with document 2 is 0.150818419801\n",
      "The similarity for document 3 with document 3 is 1.0\n",
      "The similarity for document 3 with document 4 is 0.0356430921086\n",
      "The similarity for document 3 with document 5 is 0.117082523375\n",
      "The similarity for document 3 with document 6 is 0.156072382181\n",
      "The similarity for document 4 with document 0 is 0.0163188950172\n",
      "The similarity for document 4 with document 1 is 0.0\n",
      "The similarity for document 4 with document 2 is 0.293700759429\n",
      "The similarity for document 4 with document 3 is 0.0356430921086\n",
      "The similarity for document 4 with document 4 is 1.0\n",
      "The similarity for document 4 with document 5 is 0.0278649448223\n",
      "The similarity for document 4 with document 6 is 0.0\n",
      "The similarity for document 5 with document 0 is 0.042931535134\n",
      "The similarity for document 5 with document 1 is 0.0\n",
      "The similarity for document 5 with document 2 is 0.053851069919\n",
      "The similarity for document 5 with document 3 is 0.117082523375\n",
      "The similarity for document 5 with document 4 is 0.0278649448223\n",
      "The similarity for document 5 with document 5 is 1.0\n",
      "The similarity for document 5 with document 6 is 0.0743389420005\n",
      "The similarity for document 6 with document 0 is 0.0790729236197\n",
      "The similarity for document 6 with document 1 is 0.100025814309\n",
      "The similarity for document 6 with document 2 is 0.0175494934339\n",
      "The similarity for document 6 with document 3 is 0.156072382181\n",
      "The similarity for document 6 with document 4 is 0.0\n",
      "The similarity for document 6 with document 5 is 0.0743389420005\n",
      "The similarity for document 6 with document 6 is 1.0\n"
     ]
    }
   ],
   "source": [
    "for number in range (0,7):\n",
    "    for number2 in range (0,7):\n",
    "        print(\"The similarity for document\", number, \"with document\", number2, 'is',\n",
    "            cosine_similarity(sklear_representation.toarray()[number],sklear_representation.toarray()[number2]))"
   ]
  },
  {
   "cell_type": "code",
   "execution_count": 33,
   "metadata": {},
   "outputs": [
    {
     "name": "stdout",
     "output_type": "stream",
     "text": [
      "The similarity for document manga 0 with document 0 is 1.0\n",
      "The similarity for document manga 0 with document 1 is 0.0782141989617\n",
      "The similarity for document manga 0 with document 2 is 0.143278002079\n",
      "The similarity for document manga 0 with document 3 is 0.174521827865\n",
      "The similarity for document manga 0 with document 4 is 0.149560837792\n",
      "The similarity for document manga 1 with document 0 is 0.0782141989617\n",
      "The similarity for document manga 1 with document 1 is 1.0\n",
      "The similarity for document manga 1 with document 2 is 0.115260128216\n",
      "The similarity for document manga 1 with document 3 is 0.0858984923387\n",
      "The similarity for document manga 1 with document 4 is 0.0922331149933\n",
      "The similarity for document manga 2 with document 0 is 0.143278002079\n",
      "The similarity for document manga 2 with document 1 is 0.115260128216\n",
      "The similarity for document manga 2 with document 2 is 1.0\n",
      "The similarity for document manga 2 with document 3 is 0.086025033044\n",
      "The similarity for document manga 2 with document 4 is 0.089512605551\n",
      "The similarity for document manga 3 with document 0 is 0.174521827865\n",
      "The similarity for document manga 3 with document 1 is 0.0858984923387\n",
      "The similarity for document manga 3 with document 2 is 0.086025033044\n",
      "The similarity for document manga 3 with document 3 is 1.0\n",
      "The similarity for document manga 3 with document 4 is 0.17704661903\n",
      "The similarity for document manga 4 with document 0 is 0.149560837792\n",
      "The similarity for document manga 4 with document 1 is 0.0922331149933\n",
      "The similarity for document manga 4 with document 2 is 0.089512605551\n",
      "The similarity for document manga 4 with document 3 is 0.17704661903\n",
      "The similarity for document manga 4 with document 4 is 1.0\n"
     ]
    }
   ],
   "source": [
    "for number in range (0,5):\n",
    "    for number2 in range (0,5):\n",
    "        print(\"The similarity for document\", number, \"with document\", number2, 'is',\n",
    "            cosine_similarity(sklear_mangarep.toarray()[number],sklear_mangarep.toarray()[number2]))"
   ]
  },
  {
   "cell_type": "code",
   "execution_count": null,
   "metadata": {
    "collapsed": true
   },
   "outputs": [],
   "source": []
  }
 ],
 "metadata": {
  "kernelspec": {
   "display_name": "Python 3",
   "language": "python",
   "name": "python3"
  },
  "language_info": {
   "codemirror_mode": {
    "name": "ipython",
    "version": 3
   },
   "file_extension": ".py",
   "mimetype": "text/x-python",
   "name": "python",
   "nbconvert_exporter": "python",
   "pygments_lexer": "ipython3",
   "version": "3.6.1"
  }
 },
 "nbformat": 4,
 "nbformat_minor": 2
}
