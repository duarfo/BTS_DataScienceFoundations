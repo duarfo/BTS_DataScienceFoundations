{
 "cells": [
  {
   "cell_type": "code",
   "execution_count": 2,
   "metadata": {},
   "outputs": [],
   "source": [
    "import pandas as pd"
   ]
  },
  {
   "cell_type": "code",
   "execution_count": 18,
   "metadata": {},
   "outputs": [],
   "source": [
    "df = pd.read_csv(\"/Users/roman2006/PycharmProjects/Liana Clone/Session_1/file_formats/rural_population_data.csv\"\n",
    "                 ,names= [\"Continent\",\"Elevation\",\"Designation\",\"1990\",\"2000\",\"2010\",\"2100\",\"Area\"],skiprows=1)"
   ]
  },
  {
   "cell_type": "code",
   "execution_count": 17,
   "metadata": {},
   "outputs": [
    {
     "data": {
      "text/html": [
       "<div>\n",
       "<style>\n",
       "    .dataframe thead tr:only-child th {\n",
       "        text-align: right;\n",
       "    }\n",
       "\n",
       "    .dataframe thead th {\n",
       "        text-align: left;\n",
       "    }\n",
       "\n",
       "    .dataframe tbody tr th {\n",
       "        vertical-align: top;\n",
       "    }\n",
       "</style>\n",
       "<table border=\"1\" class=\"dataframe\">\n",
       "  <thead>\n",
       "    <tr style=\"text-align: right;\">\n",
       "      <th></th>\n",
       "      <th>Continent</th>\n",
       "      <th>Elevation</th>\n",
       "      <th>Designation</th>\n",
       "      <th>1990</th>\n",
       "      <th>2000</th>\n",
       "      <th>2010</th>\n",
       "      <th>2100</th>\n",
       "      <th>Area</th>\n",
       "    </tr>\n",
       "  </thead>\n",
       "  <tbody>\n",
       "    <tr>\n",
       "      <th>0</th>\n",
       "      <td>Continent</td>\n",
       "      <td>ElevationZone</td>\n",
       "      <td>UrbanRuralDesignation</td>\n",
       "      <td>Population1990</td>\n",
       "      <td>Population2000</td>\n",
       "      <td>Population2010</td>\n",
       "      <td>Population2100</td>\n",
       "      <td>LandArea</td>\n",
       "    </tr>\n",
       "    <tr>\n",
       "      <th>1</th>\n",
       "      <td>Africa</td>\n",
       "      <td>Elevations &gt; 20m or Non-Contiguous</td>\n",
       "      <td>Rural</td>\n",
       "      <td>333302081</td>\n",
       "      <td>418265923</td>\n",
       "      <td>530184094</td>\n",
       "      <td>1249908321</td>\n",
       "      <td>23749644</td>\n",
       "    </tr>\n",
       "    <tr>\n",
       "      <th>2</th>\n",
       "      <td>Africa</td>\n",
       "      <td>Elevations &gt; 20m or Non-Contiguous</td>\n",
       "      <td>Urban</td>\n",
       "      <td>157846329</td>\n",
       "      <td>210381843</td>\n",
       "      <td>266776037</td>\n",
       "      <td>504662423</td>\n",
       "      <td>204719</td>\n",
       "    </tr>\n",
       "    <tr>\n",
       "      <th>3</th>\n",
       "      <td>Africa</td>\n",
       "      <td>Elevations Less Than or Equal To 10m</td>\n",
       "      <td>Rural</td>\n",
       "      <td>18167003</td>\n",
       "      <td>22569516</td>\n",
       "      <td>28154645</td>\n",
       "      <td>76368900</td>\n",
       "      <td>172460</td>\n",
       "    </tr>\n",
       "    <tr>\n",
       "      <th>4</th>\n",
       "      <td>Africa</td>\n",
       "      <td>Elevations Less Than or Equal To 10m</td>\n",
       "      <td>Urban</td>\n",
       "      <td>22412955</td>\n",
       "      <td>28679117</td>\n",
       "      <td>36746774</td>\n",
       "      <td>94042536</td>\n",
       "      <td>13838</td>\n",
       "    </tr>\n",
       "  </tbody>\n",
       "</table>\n",
       "</div>"
      ],
      "text/plain": [
       "   Continent                              Elevation            Designation  \\\n",
       "0  Continent                          ElevationZone  UrbanRuralDesignation   \n",
       "1     Africa    Elevations > 20m or Non-Contiguous                   Rural   \n",
       "2     Africa    Elevations > 20m or Non-Contiguous                   Urban   \n",
       "3     Africa  Elevations Less Than or Equal To 10m                   Rural   \n",
       "4     Africa  Elevations Less Than or Equal To 10m                   Urban   \n",
       "\n",
       "             1990            2000            2010            2100      Area  \n",
       "0  Population1990  Population2000  Population2010  Population2100  LandArea  \n",
       "1       333302081       418265923       530184094      1249908321  23749644  \n",
       "2       157846329       210381843       266776037       504662423    204719  \n",
       "3        18167003        22569516        28154645        76368900    172460  \n",
       "4        22412955        28679117        36746774        94042536     13838  "
      ]
     },
     "execution_count": 17,
     "metadata": {},
     "output_type": "execute_result"
    }
   ],
   "source": [
    "df.head()"
   ]
  },
  {
   "cell_type": "code",
   "execution_count": 23,
   "metadata": {},
   "outputs": [
    {
     "data": {
      "text/plain": [
       "(120, 8)"
      ]
     },
     "execution_count": 23,
     "metadata": {},
     "output_type": "execute_result"
    }
   ],
   "source": [
    "df.shape"
   ]
  },
  {
   "cell_type": "code",
   "execution_count": 24,
   "metadata": {},
   "outputs": [
    {
     "data": {
      "text/plain": [
       "array(['Africa', 'Asia', 'Oceania', 'Europe', 'North America',\n",
       "       'South America'], dtype=object)"
      ]
     },
     "execution_count": 24,
     "metadata": {},
     "output_type": "execute_result"
    }
   ],
   "source": [
    "df['Continent'].unique()"
   ]
  },
  {
   "cell_type": "code",
   "execution_count": 30,
   "metadata": {},
   "outputs": [],
   "source": [
    "df[\"Histogram\"] = df.apply(lambda row: (row['2100']-row['2000'])/row['2000'], axis=1)"
   ]
  },
  {
   "cell_type": "code",
   "execution_count": 39,
   "metadata": {},
   "outputs": [
    {
     "data": {
      "text/plain": [
       "Continent      0\n",
       "Elevation      0\n",
       "Designation    0\n",
       "1990           0\n",
       "2000           0\n",
       "2010           0\n",
       "2100           0\n",
       "Area           0\n",
       "Histogram      0\n",
       "dtype: int64"
      ]
     },
     "execution_count": 39,
     "metadata": {},
     "output_type": "execute_result"
    }
   ],
   "source": [
    "df.isnull().sum()"
   ]
  },
  {
   "cell_type": "code",
   "execution_count": 40,
   "metadata": {},
   "outputs": [
    {
     "data": {
      "text/html": [
       "<div>\n",
       "<style>\n",
       "    .dataframe thead tr:only-child th {\n",
       "        text-align: right;\n",
       "    }\n",
       "\n",
       "    .dataframe thead th {\n",
       "        text-align: left;\n",
       "    }\n",
       "\n",
       "    .dataframe tbody tr th {\n",
       "        vertical-align: top;\n",
       "    }\n",
       "</style>\n",
       "<table border=\"1\" class=\"dataframe\">\n",
       "  <thead>\n",
       "    <tr style=\"text-align: right;\">\n",
       "      <th></th>\n",
       "      <th>Continent</th>\n",
       "      <th>Elevation</th>\n",
       "      <th>Designation</th>\n",
       "      <th>1990</th>\n",
       "      <th>2000</th>\n",
       "      <th>2010</th>\n",
       "      <th>2100</th>\n",
       "      <th>Area</th>\n",
       "      <th>Histogram</th>\n",
       "    </tr>\n",
       "  </thead>\n",
       "  <tbody>\n",
       "    <tr>\n",
       "      <th>0</th>\n",
       "      <td>Africa</td>\n",
       "      <td>Elevations &gt; 20m or Non-Contiguous</td>\n",
       "      <td>Rural</td>\n",
       "      <td>333302081</td>\n",
       "      <td>418265923</td>\n",
       "      <td>530184094</td>\n",
       "      <td>1249908321</td>\n",
       "      <td>23749644</td>\n",
       "      <td>1.988310</td>\n",
       "    </tr>\n",
       "    <tr>\n",
       "      <th>1</th>\n",
       "      <td>Africa</td>\n",
       "      <td>Elevations &gt; 20m or Non-Contiguous</td>\n",
       "      <td>Urban</td>\n",
       "      <td>157846329</td>\n",
       "      <td>210381843</td>\n",
       "      <td>266776037</td>\n",
       "      <td>504662423</td>\n",
       "      <td>204719</td>\n",
       "      <td>1.398793</td>\n",
       "    </tr>\n",
       "    <tr>\n",
       "      <th>2</th>\n",
       "      <td>Africa</td>\n",
       "      <td>Elevations Less Than or Equal To 10m</td>\n",
       "      <td>Rural</td>\n",
       "      <td>18167003</td>\n",
       "      <td>22569516</td>\n",
       "      <td>28154645</td>\n",
       "      <td>76368900</td>\n",
       "      <td>172460</td>\n",
       "      <td>2.383719</td>\n",
       "    </tr>\n",
       "    <tr>\n",
       "      <th>3</th>\n",
       "      <td>Africa</td>\n",
       "      <td>Elevations Less Than or Equal To 10m</td>\n",
       "      <td>Urban</td>\n",
       "      <td>22412955</td>\n",
       "      <td>28679117</td>\n",
       "      <td>36746774</td>\n",
       "      <td>94042536</td>\n",
       "      <td>13838</td>\n",
       "      <td>2.279129</td>\n",
       "    </tr>\n",
       "    <tr>\n",
       "      <th>4</th>\n",
       "      <td>Africa</td>\n",
       "      <td>Elevations Less Than or Equal To 12m</td>\n",
       "      <td>Rural</td>\n",
       "      <td>20569411</td>\n",
       "      <td>25576481</td>\n",
       "      <td>31957186</td>\n",
       "      <td>85839163</td>\n",
       "      <td>202456</td>\n",
       "      <td>2.356176</td>\n",
       "    </tr>\n",
       "  </tbody>\n",
       "</table>\n",
       "</div>"
      ],
      "text/plain": [
       "  Continent                              Elevation Designation       1990  \\\n",
       "0    Africa    Elevations > 20m or Non-Contiguous        Rural  333302081   \n",
       "1    Africa    Elevations > 20m or Non-Contiguous        Urban  157846329   \n",
       "2    Africa  Elevations Less Than or Equal To 10m        Rural   18167003   \n",
       "3    Africa  Elevations Less Than or Equal To 10m        Urban   22412955   \n",
       "4    Africa  Elevations Less Than or Equal To 12m        Rural   20569411   \n",
       "\n",
       "        2000       2010        2100      Area  Histogram  \n",
       "0  418265923  530184094  1249908321  23749644   1.988310  \n",
       "1  210381843  266776037   504662423    204719   1.398793  \n",
       "2   22569516   28154645    76368900    172460   2.383719  \n",
       "3   28679117   36746774    94042536     13838   2.279129  \n",
       "4   25576481   31957186    85839163    202456   2.356176  "
      ]
     },
     "execution_count": 40,
     "metadata": {},
     "output_type": "execute_result"
    }
   ],
   "source": [
    "df.head()"
   ]
  },
  {
   "cell_type": "code",
   "execution_count": null,
   "metadata": {
    "collapsed": true
   },
   "outputs": [],
   "source": []
  },
  {
   "cell_type": "code",
   "execution_count": 38,
   "metadata": {},
   "outputs": [
    {
     "data": {
      "text/plain": [
       "188888453.65416667"
      ]
     },
     "execution_count": 38,
     "metadata": {},
     "output_type": "execute_result"
    }
   ],
   "source": [
    "df['2000'].mean() +df ['2010'].mean()/2"
   ]
  },
  {
   "cell_type": "code",
   "execution_count": 53,
   "metadata": {},
   "outputs": [
    {
     "data": {
      "text/plain": [
       "Rural    60\n",
       "Urban    60\n",
       "Name: Designation, dtype: int64"
      ]
     },
     "execution_count": 53,
     "metadata": {},
     "output_type": "execute_result"
    }
   ],
   "source": [
    "df[\"Designation\"].value_counts()"
   ]
  },
  {
   "cell_type": "code",
   "execution_count": null,
   "metadata": {
    "collapsed": true
   },
   "outputs": [],
   "source": []
  }
 ],
 "metadata": {
  "kernelspec": {
   "display_name": "Python 3",
   "language": "python",
   "name": "python3"
  },
  "language_info": {
   "codemirror_mode": {
    "name": "ipython",
    "version": 3
   },
   "file_extension": ".py",
   "mimetype": "text/x-python",
   "name": "python",
   "nbconvert_exporter": "python",
   "pygments_lexer": "ipython3",
   "version": "3.6.1"
  }
 },
 "nbformat": 4,
 "nbformat_minor": 2
}
