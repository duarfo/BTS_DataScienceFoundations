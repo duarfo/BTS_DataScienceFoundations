{
 "cells": [
  {
   "cell_type": "code",
   "execution_count": 1,
   "metadata": {
    "collapsed": true
   },
   "outputs": [],
   "source": [
    "from nltk import word_tokenize, pos_tag, ne_chunk"
   ]
  },
  {
   "cell_type": "code",
   "execution_count": 14,
   "metadata": {
    "collapsed": true
   },
   "outputs": [],
   "source": [
    "text ='Apple Inc. is an American multinational technology company headquatered in Cupertino, California, that designs, develops, and sells consumer electronics, computer software, and online services. Its hardware products include the iPhone smartphone, the iPad tablet computer, the Mac personal computer, the iPod portable media player, and the Apple Watch smartwatch.'"
   ]
  },
  {
   "cell_type": "code",
   "execution_count": 15,
   "metadata": {},
   "outputs": [
    {
     "name": "stdout",
     "output_type": "stream",
     "text": [
      "['Apple', 'Inc.', 'is', 'an', 'American', 'multinational', 'technology', 'company', 'headquatered', 'in', 'Cupertino', ',', 'California', ',', 'that', 'designs', ',', 'develops', ',', 'and', 'sells', 'consumer', 'electronics', ',', 'computer', 'software', ',', 'and', 'online', 'services', '.', 'Its', 'hardware', 'products', 'include', 'the', 'iPhone', 'smartphone', ',', 'the', 'iPad', 'tablet', 'computer', ',', 'the', 'Mac', 'personal', 'computer', ',', 'the', 'iPod', 'portable', 'media', 'player', ',', 'and', 'the', 'Apple', 'Watch', 'smartwatch', '.']\n"
     ]
    }
   ],
   "source": [
    "text_tokenized = word_tokenize(text)\n",
    "print(text_tokenized)"
   ]
  },
  {
   "cell_type": "code",
   "execution_count": 16,
   "metadata": {
    "collapsed": true
   },
   "outputs": [],
   "source": [
    "import nltk"
   ]
  },
  {
   "cell_type": "code",
   "execution_count": 17,
   "metadata": {},
   "outputs": [
    {
     "name": "stdout",
     "output_type": "stream",
     "text": [
      "['appl', 'inc.', 'is', 'an', 'american', 'multin', 'technolog', 'compani', 'headquat', 'in', 'cupertino', ',', 'california', ',', 'that', 'design', ',', 'develop', ',', 'and', 'sell', 'consum', 'electron', ',', 'comput', 'softwar', ',', 'and', 'onlin', 'servic', '.', 'it', 'hardwar', 'product', 'includ', 'the', 'iphon', 'smartphon', ',', 'the', 'ipad', 'tablet', 'comput', ',', 'the', 'mac', 'person', 'comput', ',', 'the', 'ipod', 'portabl', 'media', 'player', ',', 'and', 'the', 'appl', 'watch', 'smartwatch', '.']\n"
     ]
    }
   ],
   "source": [
    "porter = nltk.PorterStemmer()\n",
    "text_stemmed = [porter.stem(t) for t in text_tokenized]\n",
    "print(text_stemmed)"
   ]
  },
  {
   "cell_type": "code",
   "execution_count": 18,
   "metadata": {},
   "outputs": [
    {
     "name": "stdout",
     "output_type": "stream",
     "text": [
      "['i', 'me', 'my', 'myself', 'we', 'our', 'ours', 'ourselves', 'you', 'your', 'yours', 'yourself', 'yourselves', 'he', 'him', 'his', 'himself', 'she', 'her', 'hers', 'herself', 'it', 'its', 'itself', 'they', 'them', 'their', 'theirs', 'themselves', 'what', 'which', 'who', 'whom', 'this', 'that', 'these', 'those', 'am', 'is', 'are', 'was', 'were', 'be', 'been', 'being', 'have', 'has', 'had', 'having', 'do', 'does', 'did', 'doing', 'a', 'an', 'the', 'and', 'but', 'if', 'or', 'because', 'as', 'until', 'while', 'of', 'at', 'by', 'for', 'with', 'about', 'against', 'between', 'into', 'through', 'during', 'before', 'after', 'above', 'below', 'to', 'from', 'up', 'down', 'in', 'out', 'on', 'off', 'over', 'under', 'again', 'further', 'then', 'once', 'here', 'there', 'when', 'where', 'why', 'how', 'all', 'any', 'both', 'each', 'few', 'more', 'most', 'other', 'some', 'such', 'no', 'nor', 'not', 'only', 'own', 'same', 'so', 'than', 'too', 'very', 's', 't', 'can', 'will', 'just', 'don', 'should', 'now', 'd', 'll', 'm', 'o', 're', 've', 'y', 'ain', 'aren', 'couldn', 'didn', 'doesn', 'hadn', 'hasn', 'haven', 'isn', 'ma', 'mightn', 'mustn', 'needn', 'shan', 'shouldn', 'wasn', 'weren', 'won', 'wouldn']\n"
     ]
    }
   ],
   "source": [
    "from nltk.corpus import stopwords\n",
    "print(stopwords.words('english'))"
   ]
  },
  {
   "cell_type": "code",
   "execution_count": 19,
   "metadata": {},
   "outputs": [
    {
     "name": "stdout",
     "output_type": "stream",
     "text": [
      "['Apple', 'Inc.', 'American', 'multinational', 'technology', 'company', 'headquatered', 'Cupertino', ',', 'California', ',', 'designs', ',', 'develops', ',', 'sells', 'consumer', 'electronics', ',', 'computer', 'software', ',', 'online', 'services', '.', 'Its', 'hardware', 'products', 'include', 'iPhone', 'smartphone', ',', 'iPad', 'tablet', 'computer', ',', 'Mac', 'personal', 'computer', ',', 'iPod', 'portable', 'media', 'player', ',', 'Apple', 'Watch', 'smartwatch', '.']\n"
     ]
    }
   ],
   "source": [
    "text_swremoved = [w for w in text_tokenized if w not in stopwords.words('english')]\n",
    "print(text_swremoved)"
   ]
  },
  {
   "cell_type": "code",
   "execution_count": 21,
   "metadata": {},
   "outputs": [
    {
     "name": "stdout",
     "output_type": "stream",
     "text": [
      "[('Apple', 'NNP'), ('Inc.', 'NNP'), ('is', 'VBZ'), ('an', 'DT'), ('American', 'JJ'), ('multinational', 'NN'), ('technology', 'NN'), ('company', 'NN'), ('headquatered', 'VBD'), ('in', 'IN'), ('Cupertino', 'NNP'), (',', ','), ('California', 'NNP'), (',', ','), ('that', 'WDT'), ('designs', 'VBZ'), (',', ','), ('develops', 'NNS'), (',', ','), ('and', 'CC'), ('sells', 'VBZ'), ('consumer', 'NN'), ('electronics', 'NNS'), (',', ','), ('computer', 'NN'), ('software', 'NN'), (',', ','), ('and', 'CC'), ('online', 'NN'), ('services', 'NNS'), ('.', '.'), ('Its', 'PRP$'), ('hardware', 'NN'), ('products', 'NNS'), ('include', 'VBP'), ('the', 'DT'), ('iPhone', 'NN'), ('smartphone', 'NN'), (',', ','), ('the', 'DT'), ('iPad', 'NN'), ('tablet', 'NN'), ('computer', 'NN'), (',', ','), ('the', 'DT'), ('Mac', 'NNP'), ('personal', 'JJ'), ('computer', 'NN'), (',', ','), ('the', 'DT'), ('iPod', 'NN'), ('portable', 'JJ'), ('media', 'NNS'), ('player', 'NN'), (',', ','), ('and', 'CC'), ('the', 'DT'), ('Apple', 'NNP'), ('Watch', 'NNP'), ('smartwatch', 'NN'), ('.', '.')]\n"
     ]
    }
   ],
   "source": [
    "from nltk import pos_tag\n",
    "text_postagged = pos_tag(text_tokenized)\n",
    "print(text_postagged)"
   ]
  },
  {
   "cell_type": "code",
   "execution_count": 23,
   "metadata": {},
   "outputs": [
    {
     "name": "stdout",
     "output_type": "stream",
     "text": [
      "(S\n",
      "  (PERSON Apple/NNP)\n",
      "  (ORGANIZATION Inc./NNP)\n",
      "  is/VBZ\n",
      "  an/DT\n",
      "  (GPE American/JJ)\n",
      "  multinational/NN\n",
      "  technology/NN\n",
      "  company/NN\n",
      "  headquatered/VBD\n",
      "  in/IN\n",
      "  (GPE Cupertino/NNP)\n",
      "  ,/,\n",
      "  (GPE California/NNP)\n",
      "  ,/,\n",
      "  that/WDT\n",
      "  designs/VBZ\n",
      "  ,/,\n",
      "  develops/NNS\n",
      "  ,/,\n",
      "  and/CC\n",
      "  sells/VBZ\n",
      "  consumer/NN\n",
      "  electronics/NNS\n",
      "  ,/,\n",
      "  computer/NN\n",
      "  software/NN\n",
      "  ,/,\n",
      "  and/CC\n",
      "  online/NN\n",
      "  services/NNS\n",
      "  ./.\n",
      "  Its/PRP$\n",
      "  hardware/NN\n",
      "  products/NNS\n",
      "  include/VBP\n",
      "  the/DT\n",
      "  (ORGANIZATION iPhone/NN)\n",
      "  smartphone/NN\n",
      "  ,/,\n",
      "  the/DT\n",
      "  (ORGANIZATION iPad/NN)\n",
      "  tablet/NN\n",
      "  computer/NN\n",
      "  ,/,\n",
      "  the/DT\n",
      "  (ORGANIZATION Mac/NNP)\n",
      "  personal/JJ\n",
      "  computer/NN\n",
      "  ,/,\n",
      "  the/DT\n",
      "  (ORGANIZATION iPod/NN)\n",
      "  portable/JJ\n",
      "  media/NNS\n",
      "  player/NN\n",
      "  ,/,\n",
      "  and/CC\n",
      "  the/DT\n",
      "  (ORGANIZATION Apple/NNP Watch/NNP)\n",
      "  smartwatch/NN\n",
      "  ./.)\n"
     ]
    }
   ],
   "source": [
    "from nltk import ne_chunk\n",
    "text_nertagged = ne_chunk(text_postagged)\n",
    "print(text_nertagged)"
   ]
  },
  {
   "cell_type": "code",
   "execution_count": 25,
   "metadata": {},
   "outputs": [
    {
     "name": "stdout",
     "output_type": "stream",
     "text": [
      "Apple Inc. is an American multinational technology company headquatered in Cupertino, California, that designs, develops, and sells consumer electronics, computer software, and online services.\n",
      "------\n",
      "Its hardware products include the iPhone smartphone, the iPad tablet computer, the Mac personal computer, the iPod portable media player, and the Apple Watch smartwatch.\n"
     ]
    }
   ],
   "source": [
    "import nltk.data\n",
    "sent_splitter=nltk.data.load('tokenizers/punkt/english.pickle')\n",
    "print('\\n------\\n'.join(sent_splitter.tokenize(text.strip())))"
   ]
  },
  {
   "cell_type": "code",
   "execution_count": 26,
   "metadata": {},
   "outputs": [
    {
     "name": "stdout",
     "output_type": "stream",
     "text": [
      "['Can', 'you', 'can', 'a', 'can', 'as', 'a', 'canner', 'can', 'can', 'a', 'can', '?']\n"
     ]
    }
   ],
   "source": [
    "text2 = 'Can you can a can as a canner can can a can?'\n",
    "tokenized_text2 = word_tokenize(text2)\n",
    "print(tokenized_text2)"
   ]
  },
  {
   "cell_type": "code",
   "execution_count": 28,
   "metadata": {},
   "outputs": [
    {
     "name": "stdout",
     "output_type": "stream",
     "text": [
      "['can', 'you', 'can', 'a', 'can', 'as', 'a', 'canner', 'can', 'can', 'a', 'can', '?']\n"
     ]
    }
   ],
   "source": [
    "text2_stemmed =[porter.stem(t) for t in tokenized_text2]\n",
    "print(text2_stemmed)"
   ]
  },
  {
   "cell_type": "code",
   "execution_count": 30,
   "metadata": {},
   "outputs": [
    {
     "name": "stdout",
     "output_type": "stream",
     "text": [
      "[('Can', 'MD'), ('you', 'PRP'), ('can', 'MD'), ('a', 'DT'), ('can', 'MD'), ('as', 'IN'), ('a', 'DT'), ('canner', 'NN'), ('can', 'MD'), ('can', 'MD'), ('a', 'DT'), ('can', 'MD'), ('?', '.')]\n"
     ]
    }
   ],
   "source": [
    "text2_postagged = pos_tag(tokenized_text2)\n",
    "print(text2_postagged)"
   ]
  },
  {
   "cell_type": "code",
   "execution_count": 33,
   "metadata": {},
   "outputs": [
    {
     "name": "stdout",
     "output_type": "stream",
     "text": [
      "{'falls', 'on', 'without', 'domestic', 'for', 'view', 'Shinzo', 'found', 'minister', 'people', 'Vladimir', '?', 'the', 'his', 'country', 'Ruble', 'last', 'Economy', 'violence', 'Japan', 'as', 'deer', 'eased', 'of', 'seems', 'own', 'so', 'asked', 'endemic', 'We', 'At', ':', 'be', 'accelerating', 'to', 'that', 'has', 'things', 'a', 'is', 'US', 'turmoil', 'economy', 'and', 'corruption', 'Cuba', 'horse', '.', 'was', 'always', 'again', 'daily', 'those', 'it', 'hunting', 'almost', 'Abe', 'sanctions', \"'s\", 'rapid', 'China', 'value', 'from', 'future', 'Russia', 'tumbled', 'Obama', 'Russian', 'problem', 'views', 'What', 'in', 'shirt', 'serious', 'confronting', 'fix', 'pace', 'hard', 'while', 'prime', 'greatly', '-', 'strong', 'about', 'politically', 'Abenomics', 'riding', 'against', ',', 'towards', 'However', 'healing', 'economic', 'growing', 'Putin', 'even', 'differs', 'at', 'horses', 'working', 'an'}\n"
     ]
    }
   ],
   "source": [
    "document_0 = \"China has a strong economy that is growing at a rapid pace. However politically it differs greatly from the US Economy.\"\n",
    "document_1 = \"At last, China seems serious about confronting an endemic problem: domestic violence and corruption.\"\n",
    "document_2 = \"Japan's prime minister, Shinzo Abe, is working towards healing the economic turmoil in his own country for his view on the future of his people.\"\n",
    "document_3 = \"Vladimir Putin is working hard to fix the economy in Russia as the Ruble has tumbled.\"\n",
    "document_4 = \"What's the future of Abenomics? We asked Shinzo Abe for his views\"\n",
    "document_5 = \"Obama has eased sanctions on Cuba while accelerating those against the Russian Economy, even as the Ruble's value falls almost daily.\"\n",
    "document_6 = \"Vladimir Putin was found to be riding a horse, again, without a shirt on while hunting deer. Vladimir Putin always seems so serious about things - even riding horses.\"\n",
    "\n",
    "all_documents = [document_0, document_1, document_2, document_3, document_4, document_5, document_6]\n",
    "tokenized_documents = [word_tokenize(d) for d in all_documents]\n",
    "all_tokens_set = set([item for sublist in tokenized_documents for item in sublist])\n",
    "print(all_tokens_set)"
   ]
  },
  {
   "cell_type": "code",
   "execution_count": 34,
   "metadata": {
    "collapsed": true
   },
   "outputs": [],
   "source": [
    "def term_frequency(term, tokenized_document):\n",
    "        return tokenized_document.count(term)"
   ]
  },
  {
   "cell_type": "code",
   "execution_count": 35,
   "metadata": {
    "collapsed": true
   },
   "outputs": [],
   "source": [
    "def sublinear_term_frequency(term, tokenized_document):\n",
    "    return 1 + math.log(tokenized_document.count(term))\n",
    "def augmented_term_frequency(term, tokenized_document):\n",
    "    max_count = max([term_frequency(t, tokenized_document) for t in tokenized_document])\n",
    "    return (0.5 +((0.5 * term_frequency(term,tokenized_document))/max_count))"
   ]
  },
  {
   "cell_type": "code",
   "execution_count": 36,
   "metadata": {
    "collapsed": true
   },
   "outputs": [],
   "source": [
    "import math\n",
    "def inverse_document_frequencies(tokenized_documents):\n",
    "    idf_values = {}\n",
    "    all_tokens_set = set([item for sublist in tokenized_documents for item in sublist])\n",
    "    for tkn in all_tokens_set:\n",
    "        contains_token= map(lambda doc: tkn in doc, tokenized_documents)\n",
    "        idf_values[tkn] = 1+ math.log(len(tokenized_documents)/(sum(contains_token)))\n",
    "    return idf_values"
   ]
  },
  {
   "cell_type": "code",
   "execution_count": 37,
   "metadata": {},
   "outputs": [
    {
     "name": "stdout",
     "output_type": "stream",
     "text": [
      "2.9459101490553135\n"
     ]
    }
   ],
   "source": [
    "idf_values = inverse_document_frequencies(tokenized_documents)\n",
    "print(idf_values[\"Abenomics\"])"
   ]
  },
  {
   "cell_type": "code",
   "execution_count": 38,
   "metadata": {},
   "outputs": [
    {
     "name": "stdout",
     "output_type": "stream",
     "text": [
      "1.336472236621213\n"
     ]
    }
   ],
   "source": [
    "print(idf_values['the'])"
   ]
  },
  {
   "cell_type": "code",
   "execution_count": 48,
   "metadata": {
    "collapsed": true
   },
   "outputs": [],
   "source": [
    "def tfidf (documents):\n",
    "    tokenized_documents = [word_tokenize (d) for d in documents]\n",
    "    idf = inverse_document_frequencies(tokenized_documents)\n",
    "    tfidf_documents = []\n",
    "    for document in tokenized_documents:\n",
    "        doc_tfidf=[]\n",
    "        for term in idf.keys():\n",
    "            tf = augmented_term_frequency(term,document)\n",
    "            doc_tfidf.append((tf*idf[term], term))\n",
    "        tfidf_documents.append(doc_tfidf)\n",
    "    return tfidf_documents"
   ]
  },
  {
   "cell_type": "code",
   "execution_count": 49,
   "metadata": {},
   "outputs": [
    {
     "name": "stdout",
     "output_type": "stream",
     "text": [
      "[(1.4729550745276567, 'falls'), (0.9236489301936018, 'on'), (1.4729550745276567, 'without'), (1.4729550745276567, 'domestic'), (1.126381484247684, 'for'), (1.4729550745276567, 'view'), (1.126381484247684, 'Shinzo'), (1.4729550745276567, 'found'), (1.4729550745276567, 'minister'), (1.4729550745276567, 'people'), (1.126381484247684, 'Vladimir'), (1.4729550745276567, '?'), (1.0023541774659097, 'the'), (1.126381484247684, 'his'), (1.4729550745276567, 'country'), (1.126381484247684, 'Ruble'), (1.4729550745276567, 'last'), (1.689572226371526, 'Economy'), (1.4729550745276567, 'violence'), (1.4729550745276567, 'Japan'), (1.126381484247684, 'as'), (1.4729550745276567, 'deer'), (1.4729550745276567, 'eased'), (1.126381484247684, 'of'), (1.126381484247684, 'seems'), (1.4729550745276567, 'own'), (1.4729550745276567, 'so'), (1.4729550745276567, 'asked'), (1.4729550745276567, 'endemic'), (1.4729550745276567, 'We'), (1.4729550745276567, 'At'), (1.4729550745276567, ':'), (1.4729550745276567, 'be'), (1.4729550745276567, 'accelerating'), (1.126381484247684, 'to'), (2.209432611791485, 'that'), (1.3854733952904028, 'has'), (1.4729550745276567, 'things'), (2.252762968495368, 'a'), (1.3854733952904028, 'is'), (2.209432611791485, 'US'), (1.4729550745276567, 'turmoil'), (1.689572226371526, 'economy'), (1.4729550745276567, 'and'), (1.4729550745276567, 'corruption'), (1.4729550745276567, 'Cuba'), (1.4729550745276567, 'horse'), (1.1541506798272583, '.'), (1.4729550745276567, 'was'), (1.4729550745276567, 'always'), (1.4729550745276567, 'again'), (1.4729550745276567, 'daily'), (1.4729550745276567, 'those'), (2.209432611791485, 'it'), (1.4729550745276567, 'hunting'), (1.4729550745276567, 'almost'), (1.126381484247684, 'Abe'), (1.4729550745276567, 'sanctions'), (0.9236489301936018, \"'s\"), (2.209432611791485, 'rapid'), (1.689572226371526, 'China'), (1.4729550745276567, 'value'), (2.209432611791485, 'from'), (1.126381484247684, 'future'), (1.4729550745276567, 'Russia'), (1.4729550745276567, 'tumbled'), (1.4729550745276567, 'Obama'), (1.4729550745276567, 'Russian'), (1.4729550745276567, 'problem'), (1.4729550745276567, 'views'), (1.4729550745276567, 'What'), (1.126381484247684, 'in'), (1.4729550745276567, 'shirt'), (1.126381484247684, 'serious'), (1.4729550745276567, 'confronting'), (1.4729550745276567, 'fix'), (2.209432611791485, 'pace'), (1.4729550745276567, 'hard'), (1.126381484247684, 'while'), (1.4729550745276567, 'prime'), (2.209432611791485, 'greatly'), (1.4729550745276567, '-'), (2.209432611791485, 'strong'), (1.126381484247684, 'about'), (2.209432611791485, 'politically'), (1.4729550745276567, 'Abenomics'), (1.4729550745276567, 'riding'), (1.4729550745276567, 'against'), (0.7798078939677113, ','), (1.4729550745276567, 'towards'), (2.209432611791485, 'However'), (1.4729550745276567, 'healing'), (1.4729550745276567, 'economic'), (2.209432611791485, 'growing'), (1.126381484247684, 'Putin'), (1.126381484247684, 'even'), (2.209432611791485, 'differs'), (2.209432611791485, 'at'), (1.4729550745276567, 'horses'), (1.126381484247684, 'working'), (1.4729550745276567, 'an')] China has a strong economy that is growing at a rapid pace. However politically it differs greatly from the US Economy.\n"
     ]
    }
   ],
   "source": [
    "tfidf_representation = tfidf(all_documents)\n",
    "print (tfidf_representation[0],document_0)"
   ]
  },
  {
   "cell_type": "code",
   "execution_count": null,
   "metadata": {
    "collapsed": true
   },
   "outputs": [],
   "source": []
  }
 ],
 "metadata": {
  "kernelspec": {
   "display_name": "Python 3",
   "language": "python",
   "name": "python3"
  },
  "language_info": {
   "codemirror_mode": {
    "name": "ipython",
    "version": 3
   },
   "file_extension": ".py",
   "mimetype": "text/x-python",
   "name": "python",
   "nbconvert_exporter": "python",
   "pygments_lexer": "ipython3",
   "version": "3.6.1"
  }
 },
 "nbformat": 4,
 "nbformat_minor": 2
}
