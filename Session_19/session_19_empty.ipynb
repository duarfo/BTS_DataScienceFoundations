{
 "cells": [
  {
   "cell_type": "markdown",
   "metadata": {},
   "source": [
    "# Sentiment analysis with Python\n",
    "In this class we will:\n",
    "\n",
    "- Extract twitter data using tweepy and learn how to handle it using pandas.\n",
    "- Do some basic statistics and visualizations with numpy, matplotlib and seaborn.\n",
    "- Do sentiment analysis of extracted (Trump's) tweets using textblob.\n",
    "\n",
    "The requirements are:\n",
    "\n",
    "- NumPy: This is the fundamental package for scientific computing with Python. Besides its obvious scientific uses, NumPy can also be used as an efficient multi-dimensional container of generic data.\n",
    "- Pandas: This is an open source library providing high-performance, easy-to-use data structures and data analysis tools.\n",
    "- Matplotlib: This is a Python 2D plotting library which produces publication quality figures in a variety of hardcopy formats and interactive environments across platforms.\n",
    "- Seaborn: This is a Python visualization library based on matplotlib. It provides a high-level interface for drawing attractive statistical graphics.\n",
    "- Tweepy: This is an easy-to-use Python library for accessing the Twitter API.\n",
    "- Textblob: This is a Python library for processing textual data. It provides a simple API for diving into common natural language processing (NLP) tasks.\n",
    "\n",
    "All of them can be installed through *pip*. \n",
    "\n",
    "## 1. Extracting twitter data (tweepy + pandas)\n",
    "### 1.1. Importing our libraries"
   ]
  },
  {
   "cell_type": "code",
   "execution_count": 1,
   "metadata": {
    "collapsed": true
   },
   "outputs": [],
   "source": [
    "# General:\n",
    "import tweepy           # To consume Twitter's API\n",
    "import pandas as pd     # To handle data\n",
    "import numpy as np      # For number computing\n",
    "\n",
    "# For plotting and visualization:\n",
    "from IPython.display import display\n",
    "import matplotlib.pyplot as plt\n",
    "import seaborn as sns\n",
    "%matplotlib inline"
   ]
  },
  {
   "cell_type": "markdown",
   "metadata": {},
   "source": [
    "### 1.2. Creating a Twitter App\n",
    "\n",
    "In order to extract tweets for a posterior analysis, we need to access to our Twitter account and create an app. The website to do this is https://apps.twitter.com/. \n",
    "\n",
    "From this app that we're creating we will save the following information in a new cell that contains:\n",
    "\n",
    "- Consumer Key (API Key)\n",
    "- Consumer Secret (API Secret)\n",
    "- Access Token\n",
    "- Access Token Secret"
   ]
  },
  {
   "cell_type": "code",
   "execution_count": 2,
   "metadata": {
    "collapsed": true
   },
   "outputs": [],
   "source": [
    "# Twitter App access keys for @user\n",
    "\n",
    "# Consume:\n",
    "CONSUMER_KEY    = 'YuFqL7bCSDHhLlbAzFvF02gcE'\n",
    "CONSUMER_SECRET = 'lr4MIHgghusgPSBZQ7VroKYaw3dDKfRvr4EzxJ1LS9QlrengWz'\n",
    "\n",
    "# Access:\n",
    "ACCESS_TOKEN  = '241206928-9tsIA2LyOqKOaLG5IHmswv09ghiubyBh4xfkJRXh'\n",
    "ACCESS_SECRET = 'mVXf7ds0iPSkOkB0FK5RiUBu25qZGpxXxBD7AJ7wAItdJ'"
   ]
  },
  {
   "cell_type": "markdown",
   "metadata": {},
   "source": [
    "We will now setup the Twitter API"
   ]
  },
  {
   "cell_type": "code",
   "execution_count": 3,
   "metadata": {
    "collapsed": true
   },
   "outputs": [],
   "source": [
    "# API's setup:\n",
    "def twitter_setup():\n",
    "    \"\"\"\n",
    "    Utility function to setup the Twitter's API\n",
    "    with our access keys provided.\n",
    "    \"\"\"\n",
    "    # Authentication and access using keys:\n",
    "    auth = tweepy.OAuthHandler(CONSUMER_KEY, CONSUMER_SECRET)\n",
    "    auth.set_access_token(ACCESS_TOKEN, ACCESS_SECRET)\n",
    "\n",
    "    # Return API with authentication:\n",
    "    api = tweepy.API(auth)\n",
    "    return api"
   ]
  },
  {
   "cell_type": "markdown",
   "metadata": {},
   "source": [
    "So far, so easy right? We're now ready to extract tweets in the next section.\n",
    "\n",
    "### 1.3. Tweets extraction\n",
    "\n",
    "Now that we've created a function to setup the Twitter API, we can use this function to create an \"**extractor**\" object. After this, we will useTweepy's function `extractor.user_timeline(screen_name, count)` to extract from `screen_name`'s user the quantity of `count` tweets.\n",
    "\n",
    "I've chosen <a href=\"https://twitter.com/realDonaldTrump\">@realDonaldTrump</a> as the user to extract data for a posterior analysis. Yeah, we wanna keep it interesting :)\n",
    "\n",
    "The way to extract Twitter's data is as follows:"
   ]
  },
  {
   "cell_type": "code",
   "execution_count": 4,
   "metadata": {},
   "outputs": [
    {
     "name": "stdout",
     "output_type": "stream",
     "text": [
      "Number of tweets extracted: 197.\n",
      "\n",
      "5 recent tweets:\n",
      "\n",
      "Ivanka Trump will be interviewed on @foxandfriends.\n",
      "\n",
      "Remember, Republicans are 5-0 in Congressional Races this year. The media refuses to mention this. I said Gillespie… https://t.co/AmcJkgOSRk\n",
      "\n",
      "More than a century after conquering flight, the #WrightBrothers continue to motivate &amp; inspire Americans, who neve… https://t.co/QPzu1tZjLZ\n",
      "\n",
      "Wonderful weekend at Camp David. A very special place. A lot of very important work done. Heading back to the… https://t.co/jN86UYnzYa\n",
      "\n",
      "As a candidate, I promised we would pass a massive TAX CUT for the everyday working American families who are the b… https://t.co/sTAoTR50EF\n",
      "\n"
     ]
    }
   ],
   "source": [
    "# We create an extractor object:\n",
    "extractor = twitter_setup()\n",
    "\n",
    "# We create a tweet list as follows:\n",
    "tweets = extractor.user_timeline(screen_name=\"realDonaldTrump\", count=200)\n",
    "print(\"Number of tweets extracted: {}.\\n\".format(len(tweets)))\n",
    "\n",
    "# We print the most recent 5 tweets:\n",
    "print(\"5 recent tweets:\\n\")\n",
    "for tweet in tweets[:5]:\n",
    "    print(tweet.text)\n",
    "    print()"
   ]
  },
  {
   "cell_type": "markdown",
   "metadata": {},
   "source": [
    "### 1.4. Creating a Pandas DataFrame\n",
    "We now have initial information to construct a Pandas `DataFrame`, in order to manipulate the info in a very easy way.\n",
    "\n",
    "IPython's `display` function plots an output in a friendly way, and the `head` method of a dataframe allows us to visualize the first 5 elements of the dataframe (or the first number of elements that are passed as an argument).\n",
    "\n",
    "So, using Python's list comprehension:"
   ]
  },
  {
   "cell_type": "code",
   "execution_count": 5,
   "metadata": {},
   "outputs": [
    {
     "data": {
      "text/html": [
       "<div>\n",
       "<style>\n",
       "    .dataframe thead tr:only-child th {\n",
       "        text-align: right;\n",
       "    }\n",
       "\n",
       "    .dataframe thead th {\n",
       "        text-align: left;\n",
       "    }\n",
       "\n",
       "    .dataframe tbody tr th {\n",
       "        vertical-align: top;\n",
       "    }\n",
       "</style>\n",
       "<table border=\"1\" class=\"dataframe\">\n",
       "  <thead>\n",
       "    <tr style=\"text-align: right;\">\n",
       "      <th></th>\n",
       "      <th>Tweets</th>\n",
       "    </tr>\n",
       "  </thead>\n",
       "  <tbody>\n",
       "    <tr>\n",
       "      <th>0</th>\n",
       "      <td>Ivanka Trump will be interviewed on @foxandfri...</td>\n",
       "    </tr>\n",
       "    <tr>\n",
       "      <th>1</th>\n",
       "      <td>Remember, Republicans are 5-0 in Congressional...</td>\n",
       "    </tr>\n",
       "    <tr>\n",
       "      <th>2</th>\n",
       "      <td>More than a century after conquering flight, t...</td>\n",
       "    </tr>\n",
       "    <tr>\n",
       "      <th>3</th>\n",
       "      <td>Wonderful weekend at Camp David. A very specia...</td>\n",
       "    </tr>\n",
       "    <tr>\n",
       "      <th>4</th>\n",
       "      <td>As a candidate, I promised we would pass a mas...</td>\n",
       "    </tr>\n",
       "    <tr>\n",
       "      <th>5</th>\n",
       "      <td>WEEKLY ADDRESS🇺🇸 https://t.co/1sH20Hb33x</td>\n",
       "    </tr>\n",
       "    <tr>\n",
       "      <th>6</th>\n",
       "      <td>TAX CUTS will increase investment in the Ameri...</td>\n",
       "    </tr>\n",
       "    <tr>\n",
       "      <th>7</th>\n",
       "      <td>Congratulations to two great and hardworking g...</td>\n",
       "    </tr>\n",
       "    <tr>\n",
       "      <th>8</th>\n",
       "      <td>Great job Kevin, we are all proud of you! http...</td>\n",
       "    </tr>\n",
       "    <tr>\n",
       "      <th>9</th>\n",
       "      <td>RT @RepKristiNoem: A lot of tough decisions go...</td>\n",
       "    </tr>\n",
       "  </tbody>\n",
       "</table>\n",
       "</div>"
      ],
      "text/plain": [
       "                                              Tweets\n",
       "0  Ivanka Trump will be interviewed on @foxandfri...\n",
       "1  Remember, Republicans are 5-0 in Congressional...\n",
       "2  More than a century after conquering flight, t...\n",
       "3  Wonderful weekend at Camp David. A very specia...\n",
       "4  As a candidate, I promised we would pass a mas...\n",
       "5           WEEKLY ADDRESS🇺🇸 https://t.co/1sH20Hb33x\n",
       "6  TAX CUTS will increase investment in the Ameri...\n",
       "7  Congratulations to two great and hardworking g...\n",
       "8  Great job Kevin, we are all proud of you! http...\n",
       "9  RT @RepKristiNoem: A lot of tough decisions go..."
      ]
     },
     "metadata": {},
     "output_type": "display_data"
    }
   ],
   "source": [
    "# We create a pandas dataframe as follows:\n",
    "data = pd.DataFrame(data=[tweet.text for tweet in tweets], columns=['Tweets'])\n",
    "\n",
    "# We display the first 10 elements of the dataframe:\n",
    "display(data.head(10))"
   ]
  },
  {
   "cell_type": "markdown",
   "metadata": {},
   "source": [
    "So we now have a nice table with ordered data.\n",
    "\n",
    "An interesting thing is the number if internal methods that the `tweet` structure has in Tweepy:"
   ]
  },
  {
   "cell_type": "code",
   "execution_count": 6,
   "metadata": {},
   "outputs": [
    {
     "name": "stdout",
     "output_type": "stream",
     "text": [
      "['__class__', '__delattr__', '__dict__', '__dir__', '__doc__', '__eq__', '__format__', '__ge__', '__getattribute__', '__getstate__', '__gt__', '__hash__', '__init__', '__init_subclass__', '__le__', '__lt__', '__module__', '__ne__', '__new__', '__reduce__', '__reduce_ex__', '__repr__', '__setattr__', '__sizeof__', '__str__', '__subclasshook__', '__weakref__', '_api', '_json', 'author', 'contributors', 'coordinates', 'created_at', 'destroy', 'entities', 'favorite', 'favorite_count', 'favorited', 'geo', 'id', 'id_str', 'in_reply_to_screen_name', 'in_reply_to_status_id', 'in_reply_to_status_id_str', 'in_reply_to_user_id', 'in_reply_to_user_id_str', 'is_quote_status', 'lang', 'parse', 'parse_list', 'place', 'retweet', 'retweet_count', 'retweeted', 'retweets', 'source', 'source_url', 'text', 'truncated', 'user']\n"
     ]
    }
   ],
   "source": [
    "# Internal methods of a single tweet object:\n",
    "print(dir(tweets[0]))"
   ]
  },
  {
   "cell_type": "markdown",
   "metadata": {},
   "source": [
    "The interesting part from here is the quantity of metadata contained in a single tweet. If we want to obtain data such as the creation date, or the source of creation, we can access the info with this attributes. An example is the following:"
   ]
  },
  {
   "cell_type": "code",
   "execution_count": 7,
   "metadata": {},
   "outputs": [
    {
     "name": "stdout",
     "output_type": "stream",
     "text": [
      "942721681130483712\n",
      "2017-12-18 11:42:18\n",
      "Twitter for iPhone\n",
      "24142\n",
      "3915\n",
      "None\n",
      "None\n",
      "{'hashtags': [], 'symbols': [], 'user_mentions': [{'screen_name': 'foxandfriends', 'name': 'FOX & friends', 'id': 15513604, 'id_str': '15513604', 'indices': [36, 50]}], 'urls': []}\n"
     ]
    }
   ],
   "source": [
    "# We print info from the first tweet:\n",
    "print(tweets[0].id)\n",
    "print(tweets[0].created_at)\n",
    "print(tweets[0].source)\n",
    "print(tweets[0].favorite_count)\n",
    "print(tweets[0].retweet_count)\n",
    "print(tweets[0].geo)\n",
    "print(tweets[0].coordinates)\n",
    "print(tweets[0].entities)"
   ]
  },
  {
   "cell_type": "markdown",
   "metadata": {},
   "source": [
    "We're now able to order the relevant data and add it to our dataframe.\n",
    "\n",
    "### 1.5. Adding relevant info to our dataframe\n",
    "\n",
    "As we can see, we can obtain a lot of data from a single tweet. But not all this data is always useful for specific stuff. In our case we well just add some data to our dataframe. For this we will use Pythons list comprehension and a new column will be added to the dataframe by just simply adding the name of the content between square brackets and assign the content. The code goes as follows:"
   ]
  },
  {
   "cell_type": "code",
   "execution_count": 8,
   "metadata": {
    "collapsed": true
   },
   "outputs": [],
   "source": [
    "# We add relevant data:\n",
    "data['len'] = np.array([len(tweet.text) for tweet in tweets])\n",
    "data['ID'] = np.array([tweet.id for tweet in tweets])\n",
    "data['Date'] = np.array([tweet.created_at for tweet in tweets])\n",
    "data['Source'] = np.array([tweet.source for tweet in tweets])\n",
    "data['Likes'] = np.array([tweet.favorite_count for tweet in tweets])\n",
    "data['RTs'] = np.array([tweet.retweet_count for tweet in tweets])"
   ]
  },
  {
   "cell_type": "markdown",
   "metadata": {},
   "source": [
    "And to display again the dataframe to see the changes, we just need to run the following code:"
   ]
  },
  {
   "cell_type": "code",
   "execution_count": 9,
   "metadata": {},
   "outputs": [
    {
     "data": {
      "text/html": [
       "<div>\n",
       "<style>\n",
       "    .dataframe thead tr:only-child th {\n",
       "        text-align: right;\n",
       "    }\n",
       "\n",
       "    .dataframe thead th {\n",
       "        text-align: left;\n",
       "    }\n",
       "\n",
       "    .dataframe tbody tr th {\n",
       "        vertical-align: top;\n",
       "    }\n",
       "</style>\n",
       "<table border=\"1\" class=\"dataframe\">\n",
       "  <thead>\n",
       "    <tr style=\"text-align: right;\">\n",
       "      <th></th>\n",
       "      <th>Tweets</th>\n",
       "      <th>len</th>\n",
       "      <th>ID</th>\n",
       "      <th>Date</th>\n",
       "      <th>Source</th>\n",
       "      <th>Likes</th>\n",
       "      <th>RTs</th>\n",
       "    </tr>\n",
       "  </thead>\n",
       "  <tbody>\n",
       "    <tr>\n",
       "      <th>0</th>\n",
       "      <td>Ivanka Trump will be interviewed on @foxandfri...</td>\n",
       "      <td>51</td>\n",
       "      <td>942721681130483712</td>\n",
       "      <td>2017-12-18 11:42:18</td>\n",
       "      <td>Twitter for iPhone</td>\n",
       "      <td>24142</td>\n",
       "      <td>3915</td>\n",
       "    </tr>\n",
       "    <tr>\n",
       "      <th>1</th>\n",
       "      <td>Remember, Republicans are 5-0 in Congressional...</td>\n",
       "      <td>140</td>\n",
       "      <td>942717030091943936</td>\n",
       "      <td>2017-12-18 11:23:49</td>\n",
       "      <td>Twitter for iPhone</td>\n",
       "      <td>45742</td>\n",
       "      <td>10388</td>\n",
       "    </tr>\n",
       "    <tr>\n",
       "      <th>2</th>\n",
       "      <td>More than a century after conquering flight, t...</td>\n",
       "      <td>144</td>\n",
       "      <td>942551516564639744</td>\n",
       "      <td>2017-12-18 00:26:07</td>\n",
       "      <td>Twitter for iPhone</td>\n",
       "      <td>46721</td>\n",
       "      <td>10392</td>\n",
       "    </tr>\n",
       "    <tr>\n",
       "      <th>3</th>\n",
       "      <td>Wonderful weekend at Camp David. A very specia...</td>\n",
       "      <td>134</td>\n",
       "      <td>942503059103604736</td>\n",
       "      <td>2017-12-17 21:13:34</td>\n",
       "      <td>Twitter for iPhone</td>\n",
       "      <td>51115</td>\n",
       "      <td>9260</td>\n",
       "    </tr>\n",
       "    <tr>\n",
       "      <th>4</th>\n",
       "      <td>As a candidate, I promised we would pass a mas...</td>\n",
       "      <td>140</td>\n",
       "      <td>942439739264831488</td>\n",
       "      <td>2017-12-17 17:01:58</td>\n",
       "      <td>Twitter for iPhone</td>\n",
       "      <td>73651</td>\n",
       "      <td>16340</td>\n",
       "    </tr>\n",
       "    <tr>\n",
       "      <th>5</th>\n",
       "      <td>WEEKLY ADDRESS🇺🇸 https://t.co/1sH20Hb33x</td>\n",
       "      <td>40</td>\n",
       "      <td>942130137734242305</td>\n",
       "      <td>2017-12-16 20:31:43</td>\n",
       "      <td>Media Studio</td>\n",
       "      <td>46901</td>\n",
       "      <td>12223</td>\n",
       "    </tr>\n",
       "    <tr>\n",
       "      <th>6</th>\n",
       "      <td>TAX CUTS will increase investment in the Ameri...</td>\n",
       "      <td>140</td>\n",
       "      <td>942123433873281024</td>\n",
       "      <td>2017-12-16 20:05:05</td>\n",
       "      <td>Twitter for iPhone</td>\n",
       "      <td>63816</td>\n",
       "      <td>14389</td>\n",
       "    </tr>\n",
       "    <tr>\n",
       "      <th>7</th>\n",
       "      <td>Congratulations to two great and hardworking g...</td>\n",
       "      <td>140</td>\n",
       "      <td>942044657613230080</td>\n",
       "      <td>2017-12-16 14:52:03</td>\n",
       "      <td>Twitter for iPhone</td>\n",
       "      <td>103365</td>\n",
       "      <td>21362</td>\n",
       "    </tr>\n",
       "    <tr>\n",
       "      <th>8</th>\n",
       "      <td>Great job Kevin, we are all proud of you! http...</td>\n",
       "      <td>65</td>\n",
       "      <td>941868639199916037</td>\n",
       "      <td>2017-12-16 03:12:37</td>\n",
       "      <td>Twitter for iPhone</td>\n",
       "      <td>61595</td>\n",
       "      <td>13315</td>\n",
       "    </tr>\n",
       "    <tr>\n",
       "      <th>9</th>\n",
       "      <td>RT @RepKristiNoem: A lot of tough decisions go...</td>\n",
       "      <td>140</td>\n",
       "      <td>941867829397254144</td>\n",
       "      <td>2017-12-16 03:09:24</td>\n",
       "      <td>Twitter for iPhone</td>\n",
       "      <td>0</td>\n",
       "      <td>6378</td>\n",
       "    </tr>\n",
       "  </tbody>\n",
       "</table>\n",
       "</div>"
      ],
      "text/plain": [
       "                                              Tweets  len                  ID  \\\n",
       "0  Ivanka Trump will be interviewed on @foxandfri...   51  942721681130483712   \n",
       "1  Remember, Republicans are 5-0 in Congressional...  140  942717030091943936   \n",
       "2  More than a century after conquering flight, t...  144  942551516564639744   \n",
       "3  Wonderful weekend at Camp David. A very specia...  134  942503059103604736   \n",
       "4  As a candidate, I promised we would pass a mas...  140  942439739264831488   \n",
       "5           WEEKLY ADDRESS🇺🇸 https://t.co/1sH20Hb33x   40  942130137734242305   \n",
       "6  TAX CUTS will increase investment in the Ameri...  140  942123433873281024   \n",
       "7  Congratulations to two great and hardworking g...  140  942044657613230080   \n",
       "8  Great job Kevin, we are all proud of you! http...   65  941868639199916037   \n",
       "9  RT @RepKristiNoem: A lot of tough decisions go...  140  941867829397254144   \n",
       "\n",
       "                 Date              Source   Likes    RTs  \n",
       "0 2017-12-18 11:42:18  Twitter for iPhone   24142   3915  \n",
       "1 2017-12-18 11:23:49  Twitter for iPhone   45742  10388  \n",
       "2 2017-12-18 00:26:07  Twitter for iPhone   46721  10392  \n",
       "3 2017-12-17 21:13:34  Twitter for iPhone   51115   9260  \n",
       "4 2017-12-17 17:01:58  Twitter for iPhone   73651  16340  \n",
       "5 2017-12-16 20:31:43        Media Studio   46901  12223  \n",
       "6 2017-12-16 20:05:05  Twitter for iPhone   63816  14389  \n",
       "7 2017-12-16 14:52:03  Twitter for iPhone  103365  21362  \n",
       "8 2017-12-16 03:12:37  Twitter for iPhone   61595  13315  \n",
       "9 2017-12-16 03:09:24  Twitter for iPhone       0   6378  "
      ]
     },
     "metadata": {},
     "output_type": "display_data"
    }
   ],
   "source": [
    "# Display of first 10 elements from dataframe:\n",
    "display(data.head(10))"
   ]
  },
  {
   "cell_type": "markdown",
   "metadata": {},
   "source": [
    "Now that we have extracted and have the data in a easy-to-handle ordered way, we're ready to do a bit more of manipulation to visualize some plots and gather some statistical data. The first part of the post is done.\n",
    "\n",
    "## 2. Visualization and basic statistics\n",
    "### 2.1. Averages and popularity\n",
    "\n",
    "We first want to calculate some basic statistical data, such as the mean of the length of characters of all tweets, the tweet with more likes and retweets, etc.\n",
    "\n",
    "From now, I'll just add some input code and the output right below the code.\n",
    "\n",
    "To obtain the mean, using numpy:"
   ]
  },
  {
   "cell_type": "code",
   "execution_count": 10,
   "metadata": {},
   "outputs": [
    {
     "name": "stdout",
     "output_type": "stream",
     "text": [
      "The lenght's average in tweets: 124.86802030456853\n"
     ]
    }
   ],
   "source": [
    "# We extract the mean of lenghts:\n",
    "mean = np.mean(data['len'])\n",
    "\n",
    "print(\"The lenght's average in tweets: {}\".format(mean))"
   ]
  },
  {
   "cell_type": "markdown",
   "metadata": {},
   "source": [
    "To extract more data, we will use some Pandas' functionalities:"
   ]
  },
  {
   "cell_type": "code",
   "execution_count": 11,
   "metadata": {},
   "outputs": [
    {
     "name": "stdout",
     "output_type": "stream",
     "text": [
      "The tweet with more likes is: \n",
      "HAPPY THANKSGIVING, your Country is starting to do really well. Jobs coming back, highest Stock Market EVER, Milita… https://t.co/JmdSe29W8E\n",
      "Number of likes: 207377\n",
      "140 characters.\n",
      "\n",
      "The tweet with more retweets is: \n",
      "I fulfilled my campaign promise - others didn’t! https://t.co/bYdaOHmPVJ\n",
      "Number of retweets: 55299\n",
      "72 characters.\n",
      "\n"
     ]
    }
   ],
   "source": [
    "# We extract the tweet with more FAVs and more RTs:\n",
    "\n",
    "fav_max = np.max(data['Likes'])\n",
    "rt_max  = np.max(data['RTs'])\n",
    "\n",
    "fav = data[data.Likes == fav_max].index[0]\n",
    "rt  = data[data.RTs == rt_max].index[0]\n",
    "\n",
    "# Max FAVs:\n",
    "print(\"The tweet with more likes is: \\n{}\".format(data['Tweets'][fav]))\n",
    "print(\"Number of likes: {}\".format(fav_max))\n",
    "print(\"{} characters.\\n\".format(data['len'][fav]))\n",
    "\n",
    "# Max RTs:\n",
    "print(\"The tweet with more retweets is: \\n{}\".format(data['Tweets'][rt]))\n",
    "print(\"Number of retweets: {}\".format(rt_max))\n",
    "print(\"{} characters.\\n\".format(data['len'][rt]))"
   ]
  },
  {
   "cell_type": "markdown",
   "metadata": {},
   "source": [
    "This is common, but it won't necessarily happen: the tweet with more likes is the tweet with more retweets. What we're doing is that we find the maximum number of likes from the '*Likes*' column and the maximum number of retweets from the '*RTs*' using numpy's `max` function. With this we just look for the index in each of both columns that satisfy to be the maximum. Since more than one could have the same number of likes/retweets (the maximum) we just need to take the first one found, and that's why we use `.index[0]` to assign the index to the variables `fav` and `rt`. To print the tweet that satisfies, we access the data in the same way we would access a matrix or any indexed object.\n",
    "\n",
    "We're now ready to plot some stuff :)\n",
    "\n",
    "### 2.2. Time series\n",
    "\n",
    "Pandas has its own object for time series. Since we have a whole vector with creation dates, we can construct time series respect tweets lengths, likes and retweets.\n",
    "\n",
    "The way we do it is:"
   ]
  },
  {
   "cell_type": "code",
   "execution_count": 12,
   "metadata": {
    "collapsed": true
   },
   "outputs": [],
   "source": [
    "# We create time series for data:\n",
    "\n",
    "tlen = pd.Series(data=data['len'].values, index=data['Date'])\n",
    "tfav = pd.Series(data=data['Likes'].values, index=data['Date'])\n",
    "tret = pd.Series(data=data['RTs'].values, index=data['Date'])"
   ]
  },
  {
   "cell_type": "markdown",
   "metadata": {},
   "source": [
    "And if we want to plot the time series, Pandas already has its own method in the object. We can plot a time series as follows:"
   ]
  },
  {
   "cell_type": "code",
   "execution_count": 13,
   "metadata": {},
   "outputs": [
    {
     "data": {
      "image/png": "[encoded data removed]",
      "text/plain": [
       "<matplotlib.figure.Figure at 0x1a156a62e8>"
      ]
     },
     "metadata": {},
     "output_type": "display_data"
    }
   ],
   "source": [
    "# Lenghts along time:\n",
    "tlen.plot(figsize=(16,4), color='r');"
   ]
  },
  {
   "cell_type": "markdown",
   "metadata": {},
   "source": [
    "And to plot the likes versus the retweets in the same chart:"
   ]
  },
  {
   "cell_type": "code",
   "execution_count": 14,
   "metadata": {},
   "outputs": [
    {
     "data": {
      "image/png": "[encoded data removed]",
      "text/plain": [
       "<matplotlib.figure.Figure at 0x1a14b70a20>"
      ]
     },
     "metadata": {},
     "output_type": "display_data"
    }
   ],
   "source": [
    "# Likes vs retweets visualization:\n",
    "tfav.plot(figsize=(16,4), label=\"Likes\", legend=True)\n",
    "tret.plot(figsize=(16,4), label=\"Retweets\", legend=True);"
   ]
  },
  {
   "cell_type": "markdown",
   "metadata": {},
   "source": [
    "### 2.3. Pie charts of sources\n",
    "\n",
    "We're almost done with this second section of the post. Now we will plot the sources in a pie chart, since we realized that not every tweet is tweeted from the same source (😱🤔). We first clean all the sources:"
   ]
  },
  {
   "cell_type": "code",
   "execution_count": 15,
   "metadata": {},
   "outputs": [
    {
     "name": "stdout",
     "output_type": "stream",
     "text": [
      "Creation of content sources:\n",
      "* Twitter for iPhone\n",
      "* Media Studio\n",
      "* Twitter for iPad\n"
     ]
    }
   ],
   "source": [
    "# We obtain all possible sources:\n",
    "sources = []\n",
    "for source in data['Source']:\n",
    "    if source not in sources:\n",
    "        sources.append(source)\n",
    "\n",
    "# We print sources list:\n",
    "print(\"Creation of content sources:\")\n",
    "for source in sources:\n",
    "    print(\"* {}\".format(source))"
   ]
  },
  {
   "cell_type": "markdown",
   "metadata": {},
   "source": [
    "We now count the number of each source and create a pie chart."
   ]
  },
  {
   "cell_type": "code",
   "execution_count": 16,
   "metadata": {},
   "outputs": [
    {
     "data": {
      "image/png": "[encoded data removed]",
      "text/plain": [
       "<matplotlib.figure.Figure at 0x1a1dc63b38>"
      ]
     },
     "metadata": {},
     "output_type": "display_data"
    }
   ],
   "source": [
    "# We create a numpy vector mapped to labels:\n",
    "percent = np.zeros(len(sources))\n",
    "\n",
    "for source in data['Source']:\n",
    "    for index in range(len(sources)):\n",
    "        if source == sources[index]:\n",
    "            percent[index] += 1\n",
    "\n",
    "percent /= 100\n",
    "\n",
    "# Pie chart:\n",
    "pie_chart = pd.Series(percent, index=sources, name='Sources')\n",
    "pie_chart.plot.pie(fontsize=11, autopct='%.2f', figsize=(6, 6));"
   ]
  },
  {
   "cell_type": "markdown",
   "metadata": {},
   "source": [
    "The plot shows us the percentage of tweets per source.\n",
    "\n",
    "We can now proceed to do sentiment analysis.\n",
    "\n",
    "## 3. Sentiment analysis\n",
    "### 3.1. Importing textblob\n",
    "\n",
    "As we mentioned at the beginning of this post, textblob will allow us to do sentiment analysis in a very simple way. We will also use the `re` library from Python, which is used to work with *regular expressions*. For this, I'll provide you two utility functions to: a) clean text (which means that any symbol distinct to an alphanumeric value will be remapped into a new one that satisfies this condition), and b) create a classifier to analyze the polarity of each tweet after cleaning the text in it. I won't explain the specific way in which the function that cleans works, since it would be extended and it might be better understood in the <a href=\"https://docs.python.org/3/library/re.html\">official re documentation</a>.\n",
    "\n",
    "TextBlob has two sentiment analyzers. First is `PatternAnalyzer` and second is `NaiveBayesAnalyzer`. The default implementation is `PatternAnalyzer`, but you can override the analyzer by passing another implementation into a TextBlob’s constructor. The output returned by the two analyzers is different: the first returns two attributes, `polarity` (in the range [-1.0, 1.0]) and `subjectivity` (in the range [0.0, 1.0], where 0.0 is very objective and 1.0 is very subjective). The NaiveBayesAnalyzer returns its result as a namedtuple of the form: Sentiment(classification, p_pos, p_neg). Note: to run the `NaiveBayesAnalyzer`, you might have to download some additional corpora to train the classifier, with the following command `python -m textblob.download_corpora`.\n",
    "\n",
    "The code using is the following:"
   ]
  },
  {
   "cell_type": "code",
   "execution_count": 17,
   "metadata": {
    "collapsed": true
   },
   "outputs": [],
   "source": [
    "from textblob import TextBlob\n",
    "from textblob.sentiments import NaiveBayesAnalyzer #Only necessary if you want to override the analyzer\n",
    "\n",
    "import re\n",
    "\n",
    "def clean_tweet(tweet):\n",
    "    '''\n",
    "    Utility function to clean the text in a tweet by removing \n",
    "    links and special characters using regex.\n",
    "    '''\n",
    "    return ' '.join(re.sub(\"(@[A-Za-z0-9]+)|([^0-9A-Za-z \\t])|(\\w+:\\/\\/\\S+)\", \" \", tweet).split())\n",
    "\n",
    "def analyze_sentiment(tweet):\n",
    "    '''\n",
    "    Utility function to classify the polarity of a tweet\n",
    "    using textblob.\n",
    "    '''\n",
    "    analysis = TextBlob(clean_tweet(tweet))\n",
    "    if analysis.sentiment.polarity > 0:\n",
    "        return 1\n",
    "    elif analysis.sentiment.polarity == 0:\n",
    "        return 0\n",
    "    else:\n",
    "        return -1\n",
    "    \n",
    "def analyze_sentiment_NB(tweet):\n",
    "    '''\n",
    "    Utility function to classify the polarity of a tweet\n",
    "    using textblob.\n",
    "    '''\n",
    "    analysis = TextBlob(clean_tweet(tweet), analyzer=NaiveBayesAnalyzer())\n",
    "    if analysis.sentiment.classification == 'pos':\n",
    "        return 1\n",
    "    elif analysis.sentiment.classification == 'neg':\n",
    "        return -1\n",
    "    else:\n",
    "        return 0"
   ]
  },
  {
   "cell_type": "markdown",
   "metadata": {},
   "source": [
    "The way it works is that textblob already provides a trained analyzer (cool, right?). Textblob can work with different *machine learning* models used in *natural language processing*. If you want to train your own classifier (or at least check how it works) feel free to check the following <a href=\"https://textblob.readthedocs.io/en/dev/classifiers.html\">link</a>. It might result relevant since we're working with a pre-trained model (for which we don't know the data that was used).\n",
    "\n",
    "Anyway, getting back to the code we will just add an extra column to our data. This column will contain the sentiment analysis and we can plot the dataframe to see the update:"
   ]
  },
  {
   "cell_type": "code",
   "execution_count": 18,
   "metadata": {},
   "outputs": [
    {
     "data": {
      "text/html": [
       "<div>\n",
       "<style>\n",
       "    .dataframe thead tr:only-child th {\n",
       "        text-align: right;\n",
       "    }\n",
       "\n",
       "    .dataframe thead th {\n",
       "        text-align: left;\n",
       "    }\n",
       "\n",
       "    .dataframe tbody tr th {\n",
       "        vertical-align: top;\n",
       "    }\n",
       "</style>\n",
       "<table border=\"1\" class=\"dataframe\">\n",
       "  <thead>\n",
       "    <tr style=\"text-align: right;\">\n",
       "      <th></th>\n",
       "      <th>Tweets</th>\n",
       "      <th>len</th>\n",
       "      <th>ID</th>\n",
       "      <th>Date</th>\n",
       "      <th>Source</th>\n",
       "      <th>Likes</th>\n",
       "      <th>RTs</th>\n",
       "      <th>SA</th>\n",
       "    </tr>\n",
       "  </thead>\n",
       "  <tbody>\n",
       "    <tr>\n",
       "      <th>0</th>\n",
       "      <td>Ivanka Trump will be interviewed on @foxandfri...</td>\n",
       "      <td>51</td>\n",
       "      <td>942721681130483712</td>\n",
       "      <td>2017-12-18 11:42:18</td>\n",
       "      <td>Twitter for iPhone</td>\n",
       "      <td>24142</td>\n",
       "      <td>3915</td>\n",
       "      <td>0</td>\n",
       "    </tr>\n",
       "    <tr>\n",
       "      <th>1</th>\n",
       "      <td>Remember, Republicans are 5-0 in Congressional...</td>\n",
       "      <td>140</td>\n",
       "      <td>942717030091943936</td>\n",
       "      <td>2017-12-18 11:23:49</td>\n",
       "      <td>Twitter for iPhone</td>\n",
       "      <td>45742</td>\n",
       "      <td>10388</td>\n",
       "      <td>0</td>\n",
       "    </tr>\n",
       "    <tr>\n",
       "      <th>2</th>\n",
       "      <td>More than a century after conquering flight, t...</td>\n",
       "      <td>144</td>\n",
       "      <td>942551516564639744</td>\n",
       "      <td>2017-12-18 00:26:07</td>\n",
       "      <td>Twitter for iPhone</td>\n",
       "      <td>46721</td>\n",
       "      <td>10392</td>\n",
       "      <td>1</td>\n",
       "    </tr>\n",
       "    <tr>\n",
       "      <th>3</th>\n",
       "      <td>Wonderful weekend at Camp David. A very specia...</td>\n",
       "      <td>134</td>\n",
       "      <td>942503059103604736</td>\n",
       "      <td>2017-12-17 21:13:34</td>\n",
       "      <td>Twitter for iPhone</td>\n",
       "      <td>51115</td>\n",
       "      <td>9260</td>\n",
       "      <td>1</td>\n",
       "    </tr>\n",
       "    <tr>\n",
       "      <th>4</th>\n",
       "      <td>As a candidate, I promised we would pass a mas...</td>\n",
       "      <td>140</td>\n",
       "      <td>942439739264831488</td>\n",
       "      <td>2017-12-17 17:01:58</td>\n",
       "      <td>Twitter for iPhone</td>\n",
       "      <td>73651</td>\n",
       "      <td>16340</td>\n",
       "      <td>-1</td>\n",
       "    </tr>\n",
       "    <tr>\n",
       "      <th>5</th>\n",
       "      <td>WEEKLY ADDRESS🇺🇸 https://t.co/1sH20Hb33x</td>\n",
       "      <td>40</td>\n",
       "      <td>942130137734242305</td>\n",
       "      <td>2017-12-16 20:31:43</td>\n",
       "      <td>Media Studio</td>\n",
       "      <td>46901</td>\n",
       "      <td>12223</td>\n",
       "      <td>0</td>\n",
       "    </tr>\n",
       "    <tr>\n",
       "      <th>6</th>\n",
       "      <td>TAX CUTS will increase investment in the Ameri...</td>\n",
       "      <td>140</td>\n",
       "      <td>942123433873281024</td>\n",
       "      <td>2017-12-16 20:05:05</td>\n",
       "      <td>Twitter for iPhone</td>\n",
       "      <td>63816</td>\n",
       "      <td>14389</td>\n",
       "      <td>1</td>\n",
       "    </tr>\n",
       "    <tr>\n",
       "      <th>7</th>\n",
       "      <td>Congratulations to two great and hardworking g...</td>\n",
       "      <td>140</td>\n",
       "      <td>942044657613230080</td>\n",
       "      <td>2017-12-16 14:52:03</td>\n",
       "      <td>Twitter for iPhone</td>\n",
       "      <td>103365</td>\n",
       "      <td>21362</td>\n",
       "      <td>1</td>\n",
       "    </tr>\n",
       "    <tr>\n",
       "      <th>8</th>\n",
       "      <td>Great job Kevin, we are all proud of you! http...</td>\n",
       "      <td>65</td>\n",
       "      <td>941868639199916037</td>\n",
       "      <td>2017-12-16 03:12:37</td>\n",
       "      <td>Twitter for iPhone</td>\n",
       "      <td>61595</td>\n",
       "      <td>13315</td>\n",
       "      <td>1</td>\n",
       "    </tr>\n",
       "    <tr>\n",
       "      <th>9</th>\n",
       "      <td>RT @RepKristiNoem: A lot of tough decisions go...</td>\n",
       "      <td>140</td>\n",
       "      <td>941867829397254144</td>\n",
       "      <td>2017-12-16 03:09:24</td>\n",
       "      <td>Twitter for iPhone</td>\n",
       "      <td>0</td>\n",
       "      <td>6378</td>\n",
       "      <td>-1</td>\n",
       "    </tr>\n",
       "  </tbody>\n",
       "</table>\n",
       "</div>"
      ],
      "text/plain": [
       "                                              Tweets  len                  ID  \\\n",
       "0  Ivanka Trump will be interviewed on @foxandfri...   51  942721681130483712   \n",
       "1  Remember, Republicans are 5-0 in Congressional...  140  942717030091943936   \n",
       "2  More than a century after conquering flight, t...  144  942551516564639744   \n",
       "3  Wonderful weekend at Camp David. A very specia...  134  942503059103604736   \n",
       "4  As a candidate, I promised we would pass a mas...  140  942439739264831488   \n",
       "5           WEEKLY ADDRESS🇺🇸 https://t.co/1sH20Hb33x   40  942130137734242305   \n",
       "6  TAX CUTS will increase investment in the Ameri...  140  942123433873281024   \n",
       "7  Congratulations to two great and hardworking g...  140  942044657613230080   \n",
       "8  Great job Kevin, we are all proud of you! http...   65  941868639199916037   \n",
       "9  RT @RepKristiNoem: A lot of tough decisions go...  140  941867829397254144   \n",
       "\n",
       "                 Date              Source   Likes    RTs  SA  \n",
       "0 2017-12-18 11:42:18  Twitter for iPhone   24142   3915   0  \n",
       "1 2017-12-18 11:23:49  Twitter for iPhone   45742  10388   0  \n",
       "2 2017-12-18 00:26:07  Twitter for iPhone   46721  10392   1  \n",
       "3 2017-12-17 21:13:34  Twitter for iPhone   51115   9260   1  \n",
       "4 2017-12-17 17:01:58  Twitter for iPhone   73651  16340  -1  \n",
       "5 2017-12-16 20:31:43        Media Studio   46901  12223   0  \n",
       "6 2017-12-16 20:05:05  Twitter for iPhone   63816  14389   1  \n",
       "7 2017-12-16 14:52:03  Twitter for iPhone  103365  21362   1  \n",
       "8 2017-12-16 03:12:37  Twitter for iPhone   61595  13315   1  \n",
       "9 2017-12-16 03:09:24  Twitter for iPhone       0   6378  -1  "
      ]
     },
     "metadata": {},
     "output_type": "display_data"
    }
   ],
   "source": [
    "# We create a column with the result of the analysis:\n",
    "data['SA'] = np.array([ analyze_sentiment(tweet) for tweet in data['Tweets'] ])\n",
    "\n",
    "# We display the updated dataframe with the new column:\n",
    "display(data.head(10))"
   ]
  },
  {
   "cell_type": "markdown",
   "metadata": {},
   "source": [
    "As we can see, the last column contains the sentiment analysis (`SA`). We now just need to check the results.\n",
    "\n",
    "### 3.2. Analyzing the results\n",
    "\n",
    "To have a simple way to verify the results, we will count the number of neutral, positive and negative tweets and extract the percentages."
   ]
  },
  {
   "cell_type": "code",
   "execution_count": 19,
   "metadata": {
    "collapsed": true
   },
   "outputs": [],
   "source": [
    "# We construct lists with classified tweets:\n",
    "\n",
    "pos_tweets = [ tweet for index, tweet in enumerate(data['Tweets']) if data['SA'][index] > 0]\n",
    "neu_tweets = [ tweet for index, tweet in enumerate(data['Tweets']) if data['SA'][index] == 0]\n",
    "neg_tweets = [ tweet for index, tweet in enumerate(data['Tweets']) if data['SA'][index] < 0]"
   ]
  },
  {
   "cell_type": "markdown",
   "metadata": {},
   "source": [
    "Now that we have the lists, we just print the percentages:"
   ]
  },
  {
   "cell_type": "code",
   "execution_count": 20,
   "metadata": {},
   "outputs": [
    {
     "name": "stdout",
     "output_type": "stream",
     "text": [
      "Percentage of positive tweets: 57.36040609137056%\n",
      "Percentage of neutral tweets: 21.31979695431472%\n",
      "Percentage de negative tweets: 21.31979695431472%\n"
     ]
    }
   ],
   "source": [
    "# We print percentages:\n",
    "\n",
    "print(\"Percentage of positive tweets: {}%\".format(len(pos_tweets)*100/len(data['Tweets'])))\n",
    "print(\"Percentage of neutral tweets: {}%\".format(len(neu_tweets)*100/len(data['Tweets'])))\n",
    "print(\"Percentage de negative tweets: {}%\".format(len(neg_tweets)*100/len(data['Tweets'])))"
   ]
  },
  {
   "cell_type": "markdown",
   "metadata": {},
   "source": [
    "We have to consider that we're working only with the 200 most recent tweets from D. Trump. For more accurate results we can consider more tweets. An interesting thing (an invitation to you) is to analyze the polarity of the tweets from different sources, it might be deterministic that by only considering the tweets from one source the polarity would result more positive/negative. Anyway, I hope this resulted interesting.\n",
    "\n",
    "As we saw, we can extract, manipulate, visualize and analyze data in a very simple way with Python. "
   ]
  },
  {
   "cell_type": "markdown",
   "metadata": {},
   "source": [
    "## Exercises\n",
    "1. Consider the tweets published in your own timeline (http://tweepy.readthedocs.io/en/v3.5.0/getting_started.html#hello-tweepy) and analyze their sentiments. This will help you capture with what content you get in touch with. Is it more positive-, neutral-, or negative-oriented?\n",
    "\n",
    "2. Consider the last 100 tweets that contain a keyword of your interest (http://docs.tweepy.org/en/latest/api.html#API.search) and analyze the lenght of their tweets, and the number of likes and retweets, and their sentiments. How are the sentiments over the keyword distributed?\n",
    "\n",
    "3. Consider the last 300 tweets that contain a location of your interest and analyze the lenght of their tweets, and the number of likes and retweets, and their sentiments. How are the sentiments of the users in that location?\n",
    "\n",
    "4. When you mention another user (http://docs.tweepy.org/en/latest/api.html#API.mentions_timeline), with which sentiments do you do it?\n",
    "\n",
    "5. Consider the last 200 tweets of two users you consider similar or relatable and compare the lenght of their tweets, and the number of likes and retweets. For each aspect we are considering (i.e., lenght, likes, and retwets) show one plot to compare the time series of those two users. Are the sentiments of the tweets of these two users distributed in similar ways?\n",
    "\n",
    "6. Repeat exercise 5 with two users you consider very different (e.g., Donald Trump and Hillary Clinton). Be creative with the choices :)\n",
    "\n",
    "7. Write a function to return if a tweet is more objective or subjective and run it in all the examples of the previous exercises (plus the Trump example we made during the class)."
   ]
  },
  {
   "cell_type": "code",
   "execution_count": null,
   "metadata": {
    "collapsed": true
   },
   "outputs": [],
   "source": []
  }
 ],
 "metadata": {
  "kernelspec": {
   "display_name": "Python 3",
   "language": "python",
   "name": "python3"
  },
  "language_info": {
   "codemirror_mode": {
    "name": "ipython",
    "version": 3
   },
   "file_extension": ".py",
   "mimetype": "text/x-python",
   "name": "python",
   "nbconvert_exporter": "python",
   "pygments_lexer": "ipython3",
   "version": "3.6.3"
  }
 },
 "nbformat": 4,
 "nbformat_minor": 2
}
