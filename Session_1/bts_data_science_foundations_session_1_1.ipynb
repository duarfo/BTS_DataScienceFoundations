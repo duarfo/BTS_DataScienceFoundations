{
 "cells": [
  {
   "cell_type": "code",
   "execution_count": 5,
   "metadata": {
    "collapsed": true
   },
   "outputs": [],
   "source": [
    "import pprint"
   ]
  },
  {
   "cell_type": "code",
   "execution_count": 6,
   "metadata": {
    "collapsed": true
   },
   "outputs": [],
   "source": [
    "traffic_data = {\n",
    "    2013 : [2800,2900,2950,2890,3050,3030,3000],\n",
    "    2014 : [2700,2915,2950,2880,3020,3030,3020],\n",
    "    2015 : [2750,2910,2955,2820,3030,3080,3010],\n",
    "    2016 : [2920,2950,2960,2840,3100,3100,3050],\n",
    "    2017 : [2930,2940,2970,2900,3150,3300,3080]\n",
    "}"
   ]
  },
  {
   "cell_type": "code",
   "execution_count": 7,
   "metadata": {
    "collapsed": true
   },
   "outputs": [],
   "source": [
    "def print_input_data(data):\n",
    "    \"\"\"\n",
    "    This is a docstring written in a reST style.\n",
    "    \n",
    "    :param data: this is an input data in the dictionary format\n",
    "    :returns: no return value\n",
    "    \"\"\"\n",
    "    pp = pprint.PrettyPrinter(indent=4)\n",
    "    pp.pprint(data)"
   ]
  },
  {
   "cell_type": "code",
   "execution_count": 8,
   "metadata": {},
   "outputs": [
    {
     "name": "stdout",
     "output_type": "stream",
     "text": [
      "{   2013: [2800, 2900, 2950, 2890, 3050, 3030, 3000],\n",
      "    2014: [2700, 2915, 2950, 2880, 3020, 3030, 3020],\n",
      "    2015: [2750, 2910, 2955, 2820, 3030, 3080, 3010],\n",
      "    2016: [2920, 2950, 2960, 2840, 3100, 3100, 3050],\n",
      "    2017: [2930, 2940, 2970, 2900, 3150, 3300, 3080]}\n"
     ]
    }
   ],
   "source": [
    "print_input_data(traffic_data)"
   ]
  },
  {
   "cell_type": "markdown",
   "metadata": {},
   "source": [
    "### Your task is to develop the code that selects the data sub-set of 2016 and finds the minimum value of a traffic intensity. If this value is greater than 2000, then you should “store” the result on the hard drive. Otherwise, you should output a message saying that the data is not saved.\n",
    "### Please notice that the storage should be simulated using print function, e.g. \"Storing the file on the hard disk\". In the print function please output the value that you are storing.  \n",
    "### Do not forget to add comments to your functions."
   ]
  },
  {
   "cell_type": "code",
   "execution_count": 9,
   "metadata": {
    "collapsed": true
   },
   "outputs": [],
   "source": [
    "def fs(Year):\n",
    "    \"\"\"fs is a function made for verifying that the minimum value of a year that you input as a string\n",
    "    is bigger than 2000 or smaller.\"\"\"\n",
    "    if (min(traffic_data[Year])) > 2000:\n",
    "        print ('The value of {0} from year {1} has been stored.'.format((min(traffic_data[Year])),Year))\n",
    "    else:\n",
    "        print ('Value not stored.')"
   ]
  },
  {
   "cell_type": "code",
   "execution_count": 10,
   "metadata": {},
   "outputs": [
    {
     "name": "stdout",
     "output_type": "stream",
     "text": [
      "The value of 2840 from year 2016 has been stored.\n"
     ]
    }
   ],
   "source": [
    "fs(2016)"
   ]
  },
  {
   "cell_type": "code",
   "execution_count": null,
   "metadata": {
    "collapsed": true
   },
   "outputs": [],
   "source": []
  }
 ],
 "metadata": {
  "kernelspec": {
   "display_name": "Python 3",
   "language": "python",
   "name": "python3"
  },
  "language_info": {
   "codemirror_mode": {
    "name": "ipython",
    "version": 3
   },
   "file_extension": ".py",
   "mimetype": "text/x-python",
   "name": "python",
   "nbconvert_exporter": "python",
   "pygments_lexer": "ipython3",
   "version": "3.6.1"
  }
 },
 "nbformat": 4,
 "nbformat_minor": 2
}
